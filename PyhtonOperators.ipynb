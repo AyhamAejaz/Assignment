{
  "nbformat": 4,
  "nbformat_minor": 0,
  "metadata": {
    "colab": {
      "provenance": [],
      "authorship_tag": "ABX9TyMCYaCj/cj0cXzsVhgRRB1u",
      "include_colab_link": true
    },
    "kernelspec": {
      "name": "python3",
      "display_name": "Python 3"
    },
    "language_info": {
      "name": "python"
    }
  },
  "cells": [
    {
      "cell_type": "markdown",
      "metadata": {
        "id": "view-in-github",
        "colab_type": "text"
      },
      "source": [
        "<a href=\"https://colab.research.google.com/github/AyhamAejaz/Assignment/blob/main/PyhtonOperators.ipynb\" target=\"_parent\"><img src=\"https://colab.research.google.com/assets/colab-badge.svg\" alt=\"Open In Colab\"/></a>"
      ]
    },
    {
      "cell_type": "markdown",
      "source": [
        "Calculate the sum, difference, product, and quotient of two numbers."
      ],
      "metadata": {
        "id": "h7sh9SGLKZBI"
      }
    },
    {
      "cell_type": "code",
      "execution_count": 3,
      "metadata": {
        "colab": {
          "base_uri": "https://localhost:8080/"
        },
        "id": "eESh3sClKR2t",
        "outputId": "c1a7a24d-ce31-4609-c1ab-966525721b8c"
      },
      "outputs": [
        {
          "output_type": "stream",
          "name": "stdout",
          "text": [
            "15\n"
          ]
        }
      ],
      "source": [
        "#sum\n",
        "x = 10\n",
        "y = 5\n",
        "print (x| + y)"
      ]
    },
    {
      "cell_type": "code",
      "source": [
        "#difference\n",
        "x = 20\n",
        "y = 5\n",
        "print(x-y)"
      ],
      "metadata": {
        "colab": {
          "base_uri": "https://localhost:8080/"
        },
        "id": "25Z4ryRYLGUk",
        "outputId": "54eff893-15f8-4690-98a5-65e859a7bf4d"
      },
      "execution_count": 4,
      "outputs": [
        {
          "output_type": "stream",
          "name": "stdout",
          "text": [
            "15\n"
          ]
        }
      ]
    },
    {
      "cell_type": "code",
      "source": [
        "#product\n",
        "x = 5\n",
        "y = 4\n",
        "print(x*y)"
      ],
      "metadata": {
        "colab": {
          "base_uri": "https://localhost:8080/"
        },
        "id": "3jEEdoyzLVrY",
        "outputId": "4d310a12-3204-4e35-f220-7cd5fb63ad78"
      },
      "execution_count": 5,
      "outputs": [
        {
          "output_type": "stream",
          "name": "stdout",
          "text": [
            "20\n"
          ]
        }
      ]
    },
    {
      "cell_type": "code",
      "source": [
        "#quotient\n",
        "t = 20\n",
        "v = 5\n",
        "print(t/v)"
      ],
      "metadata": {
        "colab": {
          "base_uri": "https://localhost:8080/"
        },
        "id": "Jr-ZwXVbLg1Q",
        "outputId": "91f65d97-bdcc-4f16-b535-427523d3dc5b"
      },
      "execution_count": 6,
      "outputs": [
        {
          "output_type": "stream",
          "name": "stdout",
          "text": [
            "4.0\n"
          ]
        }
      ]
    },
    {
      "cell_type": "markdown",
      "source": [
        "Perform various assignment operations on a variable."
      ],
      "metadata": {
        "id": "dkUqWbF8L4u3"
      }
    },
    {
      "cell_type": "code",
      "source": [
        "# Initialize a variable\n",
        "x = 10\n",
        "\n",
        "# Addition assignment\n",
        "x += 5  # Equivalent to x = x + 5\n",
        "print(\"After addition assignment:\", x)\n",
        "\n",
        "# Subtraction assignment\n",
        "x -= 3  # Equivalent to x = x - 3\n",
        "print(\"After subtraction assignment:\", x)\n",
        "\n",
        "# Multiplication assignment\n",
        "x *= 2  # Equivalent to x = x * 2\n",
        "print(\"After multiplication assignment:\", x)\n",
        "\n",
        "# Division assignment\n",
        "x /= 4  # Equivalent to x = x / 4\n",
        "print(\"After division assignment:\", x)\n",
        "\n",
        "# Modulus assignment\n",
        "x %= 3  # Equivalent to x = x % 3\n",
        "print(\"After modulus assignment:\", x)\n",
        "\n",
        "# Exponentiation assignment\n",
        "x **= 2  # Equivalent to x = x ** 2\n",
        "print(\"After exponentiation assignment:\", x)\n",
        "\n",
        "x //= 2  # Equivalent to x = x // 2\n",
        "print(\"After floor division assignment:\", x)\n"
      ],
      "metadata": {
        "colab": {
          "base_uri": "https://localhost:8080/"
        },
        "id": "9R2GCcndL9Af",
        "outputId": "64cd7519-77fa-4e43-f5ea-1c84b76b3194"
      },
      "execution_count": 7,
      "outputs": [
        {
          "output_type": "stream",
          "name": "stdout",
          "text": [
            "After addition assignment: 15\n",
            "After subtraction assignment: 12\n",
            "After multiplication assignment: 24\n",
            "After division assignment: 6.0\n",
            "After modulus assignment: 0.0\n",
            "After exponentiation assignment: 0.0\n",
            "After floor division assignment: 0.0\n"
          ]
        }
      ]
    },
    {
      "cell_type": "markdown",
      "source": [
        "Compare two numbers and print the results."
      ],
      "metadata": {
        "id": "2JPORQ5vWDEX"
      }
    },
    {
      "cell_type": "code",
      "source": [
        "# Define two numbers\n",
        "number1 = 20\n",
        "number2 = 15\n",
        "\n",
        "# Compare the numbers\n",
        "if number1 > number2:\n",
        "    print(f\"{number1} is greater than {number2}\")\n",
        "elif number1 < number2:\n",
        "    print(f\"{number1} is less than {number2}\")\n",
        "else:\n",
        "    print(f\"{number1} is equal to {number2}\")\n"
      ],
      "metadata": {
        "colab": {
          "base_uri": "https://localhost:8080/"
        },
        "id": "lM0E6oYuVxY0",
        "outputId": "59332434-962c-4fc3-fa01-1aebb2d1faba"
      },
      "execution_count": 8,
      "outputs": [
        {
          "output_type": "stream",
          "name": "stdout",
          "text": [
            "20 is greater than 15\n"
          ]
        }
      ]
    },
    {
      "cell_type": "markdown",
      "source": [
        "#Check conditions using logical operators."
      ],
      "metadata": {
        "id": "05Wvsi8BWWqw"
      }
    },
    {
      "cell_type": "code",
      "source": [
        "# Define variables\n",
        "x = 5\n",
        "y = 10\n",
        "z = 15\n",
        "\n",
        "# Check conditions using logical operators\n",
        "if x < y and y < z:\n",
        "    print(\"Both conditions are true: x is less than y and y is less than z\")\n",
        "elif x < y or x < z:\n",
        "    print(\"At least one condition is true: x is less than y or x is less than z\")\n",
        "elif not (x == y):\n",
        "    print(\"The condition is true: x is not equal to y\")\n",
        "else:\n",
        "    print(\"None of the conditions are true\")\n"
      ],
      "metadata": {
        "colab": {
          "base_uri": "https://localhost:8080/"
        },
        "id": "8JVyrmlTWbQk",
        "outputId": "3efb3590-677d-460b-f8bd-dc418b0188c2"
      },
      "execution_count": 10,
      "outputs": [
        {
          "output_type": "stream",
          "name": "stdout",
          "text": [
            "Both conditions are true: x is less than y and y is less than z\n"
          ]
        }
      ]
    },
    {
      "cell_type": "markdown",
      "source": [
        "Check the identity of variables."
      ],
      "metadata": {
        "id": "YeIZmscAXA4w"
      }
    },
    {
      "cell_type": "code",
      "source": [
        "# Define variables\n",
        "x = 5\n",
        "y = 5\n",
        "z = x\n",
        "\n",
        "# Check identity using id() function\n",
        "print(\"Identity of x:\", id(x))\n",
        "print(\"Identity of y:\", id(y))\n",
        "print(\"Identity of z:\", id(z))\n",
        "\n",
        "# Compare identities\n",
        "if id(x) == id(y):\n",
        "    print(\"x and y refer to the same object.\")\n",
        "else:\n",
        "    print(\"x and y refer to different objects.\")\n",
        "\n",
        "if id(x) == id(z):\n",
        "    print(\"x and z refer to the same object.\")\n",
        "else:\n",
        "    print(\"x and z refer to different objects.\")\n"
      ],
      "metadata": {
        "colab": {
          "base_uri": "https://localhost:8080/"
        },
        "id": "_q-GKAWZWq4t",
        "outputId": "c363672e-13c3-42c6-c8ef-972e5d4aaa97"
      },
      "execution_count": 11,
      "outputs": [
        {
          "output_type": "stream",
          "name": "stdout",
          "text": [
            "Identity of x: 140080802873712\n",
            "Identity of y: 140080802873712\n",
            "Identity of z: 140080802873712\n",
            "x and y refer to the same object.\n",
            "x and z refer to the same object.\n"
          ]
        }
      ]
    },
    {
      "cell_type": "markdown",
      "source": [
        "Perform bitwise operations on any two integers."
      ],
      "metadata": {
        "id": "_K0WGLcmXdx7"
      }
    },
    {
      "cell_type": "code",
      "source": [
        "# Define two integers\n",
        "num1 = 10    # Binary: 1010\n",
        "num2 = 7     # Binary: 0111\n",
        "\n",
        "# Bitwise AND\n",
        "result_and = num1 & num2  # Binary: 0010 (2 in decimal)\n",
        "print(\"Bitwise AND:\", result_and)\n",
        "\n",
        "# Bitwise OR\n",
        "result_or = num1 | num2   # Binary: 1111 (15 in decimal)\n",
        "print(\"Bitwise OR:\", result_or)\n",
        "\n",
        "# Bitwise XOR\n",
        "result_xor = num1 ^ num2  # Binary: 1101 (13 in decimal)\n",
        "print(\"Bitwise XOR:\", result_xor)\n",
        "\n",
        "# Bitwise left shift\n",
        "result_left_shift = num1 << 1  # Binary: 10100 (20 in decimal)\n",
        "print(\"Bitwise Left Shift:\", result_left_shift)\n",
        "\n",
        "# Bitwise right shift\n",
        "result_right_shift = num2 >> 1  # Binary: 0011 (3 in decimal)\n",
        "print(\"Bitwise Right Shift:\", result_right_shift)\n"
      ],
      "metadata": {
        "colab": {
          "base_uri": "https://localhost:8080/"
        },
        "id": "RxVnPS-6XUqp",
        "outputId": "ee8cc618-1216-4706-d0da-e3f8534bb5f8"
      },
      "execution_count": 12,
      "outputs": [
        {
          "output_type": "stream",
          "name": "stdout",
          "text": [
            "Bitwise AND: 2\n",
            "Bitwise OR: 15\n",
            "Bitwise XOR: 13\n",
            "Bitwise Left Shift: 20\n",
            "Bitwise Right Shift: 3\n"
          ]
        }
      ]
    },
    {
      "cell_type": "markdown",
      "source": [
        "Use unary operators to change the sign of a number."
      ],
      "metadata": {
        "id": "NkXpvZaQX4Nc"
      }
    },
    {
      "cell_type": "code",
      "source": [
        "number = 10\n",
        "number = -number\n",
        "print(\"Changed sign:\", number)"
      ],
      "metadata": {
        "colab": {
          "base_uri": "https://localhost:8080/"
        },
        "id": "MDqzpnCoX7QM",
        "outputId": "47db4bf3-d800-47ac-c749-a6040ad451a0"
      },
      "execution_count": 14,
      "outputs": [
        {
          "output_type": "stream",
          "name": "stdout",
          "text": [
            "Changed sign: -10\n"
          ]
        }
      ]
    },
    {
      "cell_type": "markdown",
      "source": [
        "Use the ternary operator to assign values based on conditions."
      ],
      "metadata": {
        "id": "BCEgwK8nYUG7"
      }
    },
    {
      "cell_type": "code",
      "source": [
        "x = 10\n",
        "y = 20\n",
        "\n",
        "max_value = x if x > y else y\n",
        "print(\"The maximum value is:\", max_value)  # Output: 20\n"
      ],
      "metadata": {
        "colab": {
          "base_uri": "https://localhost:8080/"
        },
        "id": "VuZZkh0iYCWy",
        "outputId": "97925374-9fbe-4659-dfed-7ec757d4d875"
      },
      "execution_count": 15,
      "outputs": [
        {
          "output_type": "stream",
          "name": "stdout",
          "text": [
            "The maximum value is: 20\n"
          ]
        }
      ]
    },
    {
      "cell_type": "code",
      "source": [],
      "metadata": {
        "id": "fay0rXYrYmB8"
      },
      "execution_count": null,
      "outputs": []
    }
  ]
}