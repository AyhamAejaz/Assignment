{
  "nbformat": 4,
  "nbformat_minor": 0,
  "metadata": {
    "colab": {
      "provenance": [],
      "authorship_tag": "ABX9TyNa8RhaVjxAvg+eMMPUbhPL"
    },
    "kernelspec": {
      "name": "python3",
      "display_name": "Python 3"
    },
    "language_info": {
      "name": "python"
    }
  },
  "cells": [
    {
      "cell_type": "markdown",
      "source": [
        "Write a program to print numbers from  to 0, but stop if the number is 5."
      ],
      "metadata": {
        "id": "QfUOy1qmd8ni"
      }
    },
    {
      "cell_type": "code",
      "execution_count": 3,
      "metadata": {
        "colab": {
          "base_uri": "https://localhost:8080/"
        },
        "id": "wBRZznHGd7aX",
        "outputId": "893b3cd6-83ac-431a-853f-bbc4e7ddd4bc"
      },
      "outputs": [
        {
          "output_type": "stream",
          "name": "stdout",
          "text": [
            "0\n",
            "1\n",
            "2\n",
            "3\n",
            "4\n",
            "5\n"
          ]
        }
      ],
      "source": [
        "for i in range(10):\n",
        "  print(i)\n",
        "  if i == 5:\n",
        "    break"
      ]
    },
    {
      "cell_type": "markdown",
      "source": [
        "Write a program to iterate through a list and stop when encountering a specific element."
      ],
      "metadata": {
        "id": "HcoumwUYegcr"
      }
    },
    {
      "cell_type": "code",
      "source": [
        "lis = [2, 3, 4 ,6 ,8 ]\n",
        "for i in lis:\n",
        "  print(i)\n",
        "  if i == 6:\n",
        "    break"
      ],
      "metadata": {
        "colab": {
          "base_uri": "https://localhost:8080/"
        },
        "id": "2YyEbyuXd_qn",
        "outputId": "446e8b08-3d08-40ef-8d91-25d347a9d40d"
      },
      "execution_count": 4,
      "outputs": [
        {
          "output_type": "stream",
          "name": "stdout",
          "text": [
            "2\n",
            "3\n",
            "4\n",
            "6\n"
          ]
        }
      ]
    },
    {
      "cell_type": "markdown",
      "source": [
        "Write a program to skip printing even numbers from  to 0."
      ],
      "metadata": {
        "id": "RbNnZlnYfE8Y"
      }
    },
    {
      "cell_type": "code",
      "source": [
        "for i in range (10):\n",
        "  if i % 2 != 0:\n",
        "    print(i)\n",
        "    continue"
      ],
      "metadata": {
        "colab": {
          "base_uri": "https://localhost:8080/"
        },
        "id": "5CQw-LizehHw",
        "outputId": "33fe4699-faf0-434b-e656-e6c67f41efcb"
      },
      "execution_count": 9,
      "outputs": [
        {
          "output_type": "stream",
          "name": "stdout",
          "text": [
            "1\n",
            "3\n",
            "5\n",
            "7\n",
            "9\n"
          ]
        }
      ]
    },
    {
      "cell_type": "markdown",
      "source": [
        "Write a program to print numbers from 0 to 9 using range."
      ],
      "metadata": {
        "id": "ENSFh_xpfmDf"
      }
    },
    {
      "cell_type": "code",
      "source": [
        "for i in range(10):\n",
        "  print(i)"
      ],
      "metadata": {
        "colab": {
          "base_uri": "https://localhost:8080/"
        },
        "id": "pNCNvHcAfFiV",
        "outputId": "11ef9763-b641-4399-be08-818370b30733"
      },
      "execution_count": 11,
      "outputs": [
        {
          "output_type": "stream",
          "name": "stdout",
          "text": [
            "0\n",
            "1\n",
            "2\n",
            "3\n",
            "4\n",
            "5\n",
            "6\n",
            "7\n",
            "8\n",
            "9\n"
          ]
        }
      ]
    },
    {
      "cell_type": "markdown",
      "source": [
        "Write a program to print multiplication tables from 1 to 5, but stop after the first table is printed for each\n",
        "number."
      ],
      "metadata": {
        "id": "X1mNH8wF5WzD"
      }
    },
    {
      "cell_type": "code",
      "source": [
        "for i in range(1, 6):  # Loop through numbers from 1 to 5\n",
        "    print(f\"Multiplication table for {i}:\")\n",
        "    for j in range(1, 11):  # Loop through multiples from 1 to 10\n",
        "        print(f\"{i} x {j} = {i * j}\")\n",
        "    print()  # Print an empty line for separation after each table\n"
      ],
      "metadata": {
        "colab": {
          "base_uri": "https://localhost:8080/"
        },
        "id": "j7yC--g_fnzM",
        "outputId": "e5d9db58-2792-4688-e7d9-38ca9647c34a"
      },
      "execution_count": 1,
      "outputs": [
        {
          "output_type": "stream",
          "name": "stdout",
          "text": [
            "Multiplication table for 1:\n",
            "1 x 1 = 1\n",
            "1 x 2 = 2\n",
            "1 x 3 = 3\n",
            "1 x 4 = 4\n",
            "1 x 5 = 5\n",
            "1 x 6 = 6\n",
            "1 x 7 = 7\n",
            "1 x 8 = 8\n",
            "1 x 9 = 9\n",
            "1 x 10 = 10\n",
            "\n",
            "Multiplication table for 2:\n",
            "2 x 1 = 2\n",
            "2 x 2 = 4\n",
            "2 x 3 = 6\n",
            "2 x 4 = 8\n",
            "2 x 5 = 10\n",
            "2 x 6 = 12\n",
            "2 x 7 = 14\n",
            "2 x 8 = 16\n",
            "2 x 9 = 18\n",
            "2 x 10 = 20\n",
            "\n",
            "Multiplication table for 3:\n",
            "3 x 1 = 3\n",
            "3 x 2 = 6\n",
            "3 x 3 = 9\n",
            "3 x 4 = 12\n",
            "3 x 5 = 15\n",
            "3 x 6 = 18\n",
            "3 x 7 = 21\n",
            "3 x 8 = 24\n",
            "3 x 9 = 27\n",
            "3 x 10 = 30\n",
            "\n",
            "Multiplication table for 4:\n",
            "4 x 1 = 4\n",
            "4 x 2 = 8\n",
            "4 x 3 = 12\n",
            "4 x 4 = 16\n",
            "4 x 5 = 20\n",
            "4 x 6 = 24\n",
            "4 x 7 = 28\n",
            "4 x 8 = 32\n",
            "4 x 9 = 36\n",
            "4 x 10 = 40\n",
            "\n",
            "Multiplication table for 5:\n",
            "5 x 1 = 5\n",
            "5 x 2 = 10\n",
            "5 x 3 = 15\n",
            "5 x 4 = 20\n",
            "5 x 5 = 25\n",
            "5 x 6 = 30\n",
            "5 x 7 = 35\n",
            "5 x 8 = 40\n",
            "5 x 9 = 45\n",
            "5 x 10 = 50\n",
            "\n"
          ]
        }
      ]
    },
    {
      "cell_type": "markdown",
      "source": [
        "Write a program to skip printing even numbers using a while loop."
      ],
      "metadata": {
        "id": "s9pPa7iFCLIS"
      }
    },
    {
      "cell_type": "code",
      "source": [
        "lis = [2, 4, 5, 6,  1, 0, 9]\n",
        "counter = 0\n",
        "while counter < len(lis):\n",
        "  counter += 1\n",
        "  if counter % 2 == 0:\n",
        "    continue\n",
        "  else:\n",
        "     print(counter)"
      ],
      "metadata": {
        "colab": {
          "base_uri": "https://localhost:8080/"
        },
        "id": "670lqVsS5XYE",
        "outputId": "1febdd3f-7688-4ea6-cae4-16ed8b38114c"
      },
      "execution_count": 10,
      "outputs": [
        {
          "output_type": "stream",
          "name": "stdout",
          "text": [
            "1\n",
            "3\n",
            "5\n",
            "7\n"
          ]
        }
      ]
    },
    {
      "cell_type": "code",
      "source": [],
      "metadata": {
        "id": "aEQw5VZUCs21"
      },
      "execution_count": null,
      "outputs": []
    }
  ]
}