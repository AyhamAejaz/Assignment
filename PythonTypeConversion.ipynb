{
  "nbformat": 4,
  "nbformat_minor": 0,
  "metadata": {
    "colab": {
      "provenance": [],
      "toc_visible": true
    },
    "kernelspec": {
      "name": "python3",
      "display_name": "Python 3"
    },
    "language_info": {
      "name": "python"
    }
  },
  "cells": [
    {
      "cell_type": "markdown",
      "source": [
        "Covert an integer to a floatig-point number."
      ],
      "metadata": {
        "id": "19voKqc8EZYM"
      }
    },
    {
      "cell_type": "code",
      "execution_count": 7,
      "metadata": {
        "colab": {
          "base_uri": "https://localhost:8080/"
        },
        "id": "SgcQypo0EQKk",
        "outputId": "8ca8e8e3-029a-479b-db78-0652b029fcb8"
      },
      "outputs": [
        {
          "output_type": "stream",
          "name": "stdout",
          "text": [
            "<class 'int'>\n"
          ]
        }
      ],
      "source": [
        "x = 10\n",
        "print(type(x))"
      ]
    },
    {
      "cell_type": "code",
      "source": [
        "y = float(x)\n",
        "print(type(y))"
      ],
      "metadata": {
        "colab": {
          "base_uri": "https://localhost:8080/"
        },
        "id": "hmDNo2_kEonU",
        "outputId": "36693ba7-fb16-4beb-a1f3-9e598fc726f4"
      },
      "execution_count": 8,
      "outputs": [
        {
          "output_type": "stream",
          "name": "stdout",
          "text": [
            "<class 'float'>\n"
          ]
        }
      ]
    },
    {
      "cell_type": "markdown",
      "source": [
        " Covert a float to a integer."
      ],
      "metadata": {
        "id": "njO6QHo8FQWN"
      }
    },
    {
      "cell_type": "code",
      "source": [
        "z = 10.5\n",
        "print(type(z))"
      ],
      "metadata": {
        "colab": {
          "base_uri": "https://localhost:8080/"
        },
        "id": "9SLn8Fp1E2Jt",
        "outputId": "2e18dce2-45e8-4c9b-b63c-83d3446ce8bc"
      },
      "execution_count": 10,
      "outputs": [
        {
          "output_type": "stream",
          "name": "stdout",
          "text": [
            "<class 'float'>\n"
          ]
        }
      ]
    },
    {
      "cell_type": "code",
      "source": [
        "v = int(z)\n",
        "print(type(v))"
      ],
      "metadata": {
        "colab": {
          "base_uri": "https://localhost:8080/"
        },
        "id": "PUMi_yD8GdzQ",
        "outputId": "bbe95f1e-db58-49cf-80b2-149f61431f11"
      },
      "execution_count": 11,
      "outputs": [
        {
          "output_type": "stream",
          "name": "stdout",
          "text": [
            "<class 'int'>\n"
          ]
        }
      ]
    },
    {
      "cell_type": "markdown",
      "source": [
        "Covert a integer to a string."
      ],
      "metadata": {
        "id": "jaE-MfsRGq_h"
      }
    },
    {
      "cell_type": "code",
      "source": [
        "x = 50\n",
        "x = str(x)\n",
        "print(y)\n",
        "print(type(y))"
      ],
      "metadata": {
        "colab": {
          "base_uri": "https://localhost:8080/"
        },
        "id": "seaZ_jDIGlH_",
        "outputId": "82fe0688-6afa-4d71-ec97-0f5ca696e5c5"
      },
      "execution_count": 15,
      "outputs": [
        {
          "output_type": "stream",
          "name": "stdout",
          "text": [
            "50\n",
            "<class 'str'>\n"
          ]
        }
      ]
    },
    {
      "cell_type": "markdown",
      "source": [
        "Covert a list to a tuple."
      ],
      "metadata": {
        "id": "lHZnuFl0HGWc"
      }
    },
    {
      "cell_type": "code",
      "source": [
        "lis = [\"ayham\", \"Cat\", \"Dog\"]\n",
        "lis = tuple(lis)\n",
        "print(lis)"
      ],
      "metadata": {
        "colab": {
          "base_uri": "https://localhost:8080/"
        },
        "id": "GD7x9IUMG24I",
        "outputId": "7cb90f1e-bcda-4510-8270-c38e9ceef834"
      },
      "execution_count": 17,
      "outputs": [
        {
          "output_type": "stream",
          "name": "stdout",
          "text": [
            "('ayham', 'Cat', 'Dog')\n"
          ]
        }
      ]
    },
    {
      "cell_type": "markdown",
      "source": [
        "Covert a list to a tuple."
      ],
      "metadata": {
        "id": "lPuVpCQ8Hq-l"
      }
    },
    {
      "cell_type": "code",
      "source": [
        "tup = (\"java\", \"python\", \"R\")\n",
        "tup = list(tup)\n",
        "print(tup)"
      ],
      "metadata": {
        "colab": {
          "base_uri": "https://localhost:8080/"
        },
        "id": "6wxfWc-3HbEw",
        "outputId": "cda5fc05-d130-4ee6-d680-82dad2964daa"
      },
      "execution_count": 18,
      "outputs": [
        {
          "output_type": "stream",
          "name": "stdout",
          "text": [
            "['java', 'python', 'R']\n"
          ]
        }
      ]
    },
    {
      "cell_type": "markdown",
      "source": [
        "Covert a decimal number to binary."
      ],
      "metadata": {
        "id": "67KSqY1vH7nf"
      }
    },
    {
      "cell_type": "code",
      "source": [
        "num = 200\n",
        "num = bin(num)\n",
        "print(num)"
      ],
      "metadata": {
        "colab": {
          "base_uri": "https://localhost:8080/"
        },
        "id": "Aum-GIF-Hz1X",
        "outputId": "a9c6bae7-2977-4f71-e48e-5cfd2d62a114"
      },
      "execution_count": 20,
      "outputs": [
        {
          "output_type": "stream",
          "name": "stdout",
          "text": [
            "0b11001000\n"
          ]
        }
      ]
    },
    {
      "cell_type": "markdown",
      "source": [
        "Covert a non-zero number to boolean."
      ],
      "metadata": {
        "id": "aE3t7fOIILXv"
      }
    },
    {
      "cell_type": "code",
      "source": [
        "number = 42\n",
        "number = bool(number)\n",
        "print(number)"
      ],
      "metadata": {
        "colab": {
          "base_uri": "https://localhost:8080/"
        },
        "id": "eb4EPbAuH6ZI",
        "outputId": "d00a145a-83fe-4029-92cc-30611ea1d319"
      },
      "execution_count": 21,
      "outputs": [
        {
          "output_type": "stream",
          "name": "stdout",
          "text": [
            "True\n"
          ]
        }
      ]
    },
    {
      "cell_type": "code",
      "source": [],
      "metadata": {
        "id": "8NIJ5dA4Ia1o"
      },
      "execution_count": null,
      "outputs": []
    },
    {
      "cell_type": "code",
      "source": [],
      "metadata": {
        "id": "se17YDb6Iklg"
      },
      "execution_count": null,
      "outputs": []
    }
  ]
}